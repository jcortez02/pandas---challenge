{
 "cells": [
  {
   "cell_type": "code",
   "execution_count": null,
   "source": [
    "### Top Trends (3)\n",
    "\n",
    "#1) Heroes of Pymoli need to gear their game towards men. Based on the gender table, males significantly make up the majority of users.\n",
    "#2) Heroes of Pymoli need to focus their efforts towards the age range of 15-19 & 20-24 year old groups. Primarily to keep the pipeline of converting more players form 15-19 year olds to continue playing into their 20's. Any customer you can keep on your platform for 10+ years on avearage is great.\n",
    "#3) Heroes of Pymoli need to consider raising their prices on unquie items because a majority of their top 10 profitable itesm are way above the average $3.05 price for a unquie item."
   ],
   "outputs": [],
   "metadata": {}
  },
  {
   "cell_type": "code",
   "execution_count": null,
   "source": [
    "# Dependencies and Setup\n",
    "import pandas as pd\n",
    "\n",
    "# File to Load (Remember to Change These)\n",
    "file_to_load = '/Users/jacobcortez/Documents/GitHub/DS_Repos/pandas_challenge/HeroesOfPymoli/Resources/purchase_data.csv'\n",
    "\n",
    "# Read Purchasing File and store into Pandas data frame\n",
    "purchase_data= pd.read_csv(file_to_load)\n",
    "purchase_data.head()"
   ],
   "outputs": [],
   "metadata": {}
  },
  {
   "cell_type": "code",
   "execution_count": null,
   "source": [
    "# Summarize our original df\n",
    "purchase_data.head()"
   ],
   "outputs": [],
   "metadata": {}
  },
  {
   "cell_type": "code",
   "execution_count": null,
   "source": [
    "# Find any incomplete rows\n",
    "purchase_data.count()"
   ],
   "outputs": [],
   "metadata": {}
  },
  {
   "cell_type": "code",
   "execution_count": null,
   "source": [
    "# Find the values/types in each row or column\n",
    "purchase_data.dtypes"
   ],
   "outputs": [],
   "metadata": {}
  },
  {
   "cell_type": "code",
   "execution_count": null,
   "source": [
    "# Total players table\n",
    "player_count = purchase_data['SN'].nunique()\n",
    "player_count_df = pd.DataFrame({\"Total Players\" : player_count},index=[\"\"])\n",
    "player_count_df"
   ],
   "outputs": [],
   "metadata": {}
  },
  {
   "cell_type": "code",
   "execution_count": null,
   "source": [
    "# Unique Item Table\n",
    "item_name = purchase_data['Item Name'].nunique()\n",
    "avg_price = purchase_data['Price'].mean()\n",
    "number_purchases = purchase_data['Purchase ID'].count()\n",
    "total_revenue = purchase_data['Price'].sum()\n",
    "item_name_df = pd.DataFrame({'Total Unquie Item': item_name,'Average Price': avg_price,'Total Purchase':number_purchases,'Total Revenue':total_revenue},index=[''])\n",
    "item_name_df\n",
    "item_name_df['Average Price'] = item_name_df['Average Price'].map('${:,.2f}'.format)\n",
    "item_name_df['Total Revenue'] = item_name_df['Total Revenue'].map('${:,.2f}'.format)\n",
    "item_name_df"
   ],
   "outputs": [],
   "metadata": {}
  },
  {
   "cell_type": "code",
   "execution_count": null,
   "source": [
    "# Gender Table\n",
    "gender_group = purchase_data.groupby('Gender')\n",
    "total_count_gender = gender_group.nunique()['SN']\n",
    "percentage_of_players_by_gender = (total_count_gender/player_count) * 100\n",
    "gender_table = pd.DataFrame({'Total Count': total_count_gender,'Percent of Players': percentage_of_players_by_gender})\n",
    "gender_table\n",
    "gender_table.sort_values(['Total Count'],ascending= False).style.format({'Percent of Players':'{:.2f}%'})"
   ],
   "outputs": [],
   "metadata": {}
  },
  {
   "cell_type": "code",
   "execution_count": null,
   "source": [
    "# Gender Table Purchasing Analysis\n",
    "gender_group = purchase_data.groupby('Gender')\n",
    "total_purchase_count_gender = gender_group.count()['Purchase ID']\n",
    "avg_purchase_price_gender = gender_group.mean()['Price']\n",
    "total_purchase_price_gender = gender_group.sum()['Price']\n",
    "avg_total_purchase_person_gender = (total_purchase_price_gender/total_count_gender) \n",
    "gender_table_purchasing_analysis = pd.DataFrame({'Purchase Count': total_purchase_count_gender,\n",
    "                                                'Average Purchase Price': avg_purchase_price_gender,\n",
    "                                                'Total Purchase Value': total_purchase_price_gender,\n",
    "                                                'Average Purchase Total Per Person': avg_total_purchase_person_gender})\n",
    "gender_table_purchasing_analysis\n",
    "gender_table_purchasing_analysis.style.format({'Average Purchase Price': '${:,.2f}',\n",
    "                                                'Total Purchase Value': '${:,.2f}',\n",
    "                                                'Average Purchase Total Per Person': '${:,.2f}'})\n",
    "                                                "
   ],
   "outputs": [],
   "metadata": {}
  },
  {
   "cell_type": "code",
   "execution_count": null,
   "source": [
    "# Age Demographics\n",
    "age_bins = [0,9.9,14.9,19.9,24.9,29.9,34.9,39.9,1000000]\n",
    "age_bins_labels = ['<10','10-14','15-19','20-24','25-29','30-34','35-39','40+']\n",
    "purchase_data['Age Group'] = pd.cut(purchase_data['Age'],bins = age_bins, labels = age_bins_labels)\n",
    "purchase_data\n",
    "age_group = purchase_data.groupby('Age Group')\n",
    "total_count_age_group = age_group['SN'].nunique()\n",
    "percentage_of_players_by_group = (total_count_age_group/player_count) * 100\n",
    "age_group_table = pd.DataFrame({'Total Count': total_count_age_group,'Percentage of Players': percentage_of_players_by_group})\n",
    "age_group_table\n",
    "age_group_table.style.format({'Percentage of Players': '{:.2f}%'})"
   ],
   "outputs": [],
   "metadata": {}
  },
  {
   "cell_type": "code",
   "execution_count": null,
   "source": [
    "# Age Demographics Purchasing Analysis\n",
    "total_purchase_count_age_group = age_group.count()['Purchase ID']\n",
    "avg_purchase_price_age_group = age_group.mean()['Price']\n",
    "total_purchase_price_age_group = age_group.sum()['Price']\n",
    "avg_total_purchase_person_age_group = (total_purchase_price_age_group/total_count_age_group)\n",
    "age_group_table_purchasing_analysis = pd.DataFrame({'Purchase Count': total_count_age_group,\n",
    "                                                    'Average Purchase Price': avg_purchase_price_age_group,\n",
    "                                                    'Total Purchase Value': total_purchase_price_age_group,\n",
    "                                                    'Average Purchase Total per Person': avg_total_purchase_person_age_group})\n",
    "age_group_table_purchasing_analysis\n",
    "age_group_table_purchasing_analysis.style.format({'Average Purchase Price': '${:,.2f}',\n",
    "                                                'Total Purchase Value': '${:,.2f}',\n",
    "                                                'Average Purchase Total per Person': '${:,.2f}'})"
   ],
   "outputs": [],
   "metadata": {}
  },
  {
   "cell_type": "code",
   "execution_count": null,
   "source": [
    "# Top Spenders\n",
    "top_spenders = purchase_data.groupby('SN')\n",
    "top_spenders_purchase_count = top_spenders['Purchase ID'].count()\n",
    "top_spenders_avg_purchase_price = top_spenders['Price'].mean()\n",
    "top_spenders_total_purchase_value = top_spenders['Price'].sum()\n",
    "top_spenders_df = pd.DataFrame({'Purchase Count': top_spenders_purchase_count,\n",
    "                            'Average Purchase Price': top_spenders_avg_purchase_price,\n",
    "                            'Total Purchase Value': top_spenders_total_purchase_value})\n",
    "top_spenders_df\n",
    "top_spenders_df.sort_values([\"Purchase Count\"], ascending = False).style.format({'Average Purchase Price': '${:,.2f}','Total Purchase Value': '${:,.2f}'}) \n",
    "\n"
   ],
   "outputs": [],
   "metadata": {}
  },
  {
   "cell_type": "code",
   "execution_count": null,
   "source": [
    "# Most Popular Items\n",
    "most_pop_item = purchase_data[['Item ID','Item Name','Price']]\n",
    "group_most_pop_item = most_pop_item.groupby(['Item ID','Item Name'])\n",
    "most_pop_item_count = group_most_pop_item['Price'].count()\n",
    "most_pop_item_total = group_most_pop_item['Price'].sum()\n",
    "most_pop_item_price = most_pop_item_total/most_pop_item_count\n",
    "most_pop_item_df = pd.DataFrame({'Purchase Count': most_pop_item_count,'Item Price': most_pop_item_price,'Total Purchase Value': most_pop_item_total})\n",
    "most_pop_item_df\n",
    "most_pop_item_df.sort_values(['Purchase Count'], ascending = False).style.format({'Item Price': '${:,.2f}','Total Purchase Value': '${:,.2f}'})"
   ],
   "outputs": [],
   "metadata": {}
  }
 ],
 "metadata": {
  "kernelspec": {
   "name": "python3",
   "display_name": "Python 3.8.8 64-bit ('base': conda)"
  },
  "language_info": {
   "codemirror_mode": {
    "name": "ipython",
    "version": 3
   },
   "file_extension": ".py",
   "mimetype": "text/x-python",
   "name": "python",
   "nbconvert_exporter": "python",
   "pygments_lexer": "ipython3",
   "version": "3.8.8"
  },
  "interpreter": {
   "hash": "98016cc4f8d063117cd41ff553f43d87f03af6246daa3659ed70ae18f4be42f7"
  }
 },
 "nbformat": 4,
 "nbformat_minor": 5
}