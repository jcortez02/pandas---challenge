{
 "cells": [
  {
   "cell_type": "code",
   "execution_count": 191,
   "source": [
    "# Dependencies and Setup\n",
    "import pandas as pd\n",
    "\n",
    "# File to Load (Remember to Change These)\n",
    "file_to_load = '/Users/jacobcortez/Documents/GitHub/DS_Repos/pandas_challenge/HeroesOfPymoli/Resources/purchase_data.csv'\n",
    "\n",
    "# Read Purchasing File and store into Pandas data frame\n",
    "purchase_data= pd.read_csv(file_to_load)\n",
    "purchase_data.head()"
   ],
   "outputs": [
    {
     "output_type": "execute_result",
     "data": {
      "text/html": [
       "<div>\n",
       "<style scoped>\n",
       "    .dataframe tbody tr th:only-of-type {\n",
       "        vertical-align: middle;\n",
       "    }\n",
       "\n",
       "    .dataframe tbody tr th {\n",
       "        vertical-align: top;\n",
       "    }\n",
       "\n",
       "    .dataframe thead th {\n",
       "        text-align: right;\n",
       "    }\n",
       "</style>\n",
       "<table border=\"1\" class=\"dataframe\">\n",
       "  <thead>\n",
       "    <tr style=\"text-align: right;\">\n",
       "      <th></th>\n",
       "      <th>Purchase ID</th>\n",
       "      <th>SN</th>\n",
       "      <th>Age</th>\n",
       "      <th>Gender</th>\n",
       "      <th>Item ID</th>\n",
       "      <th>Item Name</th>\n",
       "      <th>Price</th>\n",
       "    </tr>\n",
       "  </thead>\n",
       "  <tbody>\n",
       "    <tr>\n",
       "      <th>0</th>\n",
       "      <td>0</td>\n",
       "      <td>Lisim78</td>\n",
       "      <td>20</td>\n",
       "      <td>Male</td>\n",
       "      <td>108</td>\n",
       "      <td>Extraction, Quickblade Of Trembling Hands</td>\n",
       "      <td>3.53</td>\n",
       "    </tr>\n",
       "    <tr>\n",
       "      <th>1</th>\n",
       "      <td>1</td>\n",
       "      <td>Lisovynya38</td>\n",
       "      <td>40</td>\n",
       "      <td>Male</td>\n",
       "      <td>143</td>\n",
       "      <td>Frenzied Scimitar</td>\n",
       "      <td>1.56</td>\n",
       "    </tr>\n",
       "    <tr>\n",
       "      <th>2</th>\n",
       "      <td>2</td>\n",
       "      <td>Ithergue48</td>\n",
       "      <td>24</td>\n",
       "      <td>Male</td>\n",
       "      <td>92</td>\n",
       "      <td>Final Critic</td>\n",
       "      <td>4.88</td>\n",
       "    </tr>\n",
       "    <tr>\n",
       "      <th>3</th>\n",
       "      <td>3</td>\n",
       "      <td>Chamassasya86</td>\n",
       "      <td>24</td>\n",
       "      <td>Male</td>\n",
       "      <td>100</td>\n",
       "      <td>Blindscythe</td>\n",
       "      <td>3.27</td>\n",
       "    </tr>\n",
       "    <tr>\n",
       "      <th>4</th>\n",
       "      <td>4</td>\n",
       "      <td>Iskosia90</td>\n",
       "      <td>23</td>\n",
       "      <td>Male</td>\n",
       "      <td>131</td>\n",
       "      <td>Fury</td>\n",
       "      <td>1.44</td>\n",
       "    </tr>\n",
       "  </tbody>\n",
       "</table>\n",
       "</div>"
      ],
      "text/plain": [
       "   Purchase ID             SN  Age Gender  Item ID  \\\n",
       "0            0        Lisim78   20   Male      108   \n",
       "1            1    Lisovynya38   40   Male      143   \n",
       "2            2     Ithergue48   24   Male       92   \n",
       "3            3  Chamassasya86   24   Male      100   \n",
       "4            4      Iskosia90   23   Male      131   \n",
       "\n",
       "                                   Item Name  Price  \n",
       "0  Extraction, Quickblade Of Trembling Hands   3.53  \n",
       "1                          Frenzied Scimitar   1.56  \n",
       "2                               Final Critic   4.88  \n",
       "3                                Blindscythe   3.27  \n",
       "4                                       Fury   1.44  "
      ]
     },
     "metadata": {},
     "execution_count": 191
    }
   ],
   "metadata": {}
  },
  {
   "cell_type": "code",
   "execution_count": 192,
   "source": [
    "# Summarize our original df\n",
    "purchase_data.head()"
   ],
   "outputs": [
    {
     "output_type": "execute_result",
     "data": {
      "text/html": [
       "<div>\n",
       "<style scoped>\n",
       "    .dataframe tbody tr th:only-of-type {\n",
       "        vertical-align: middle;\n",
       "    }\n",
       "\n",
       "    .dataframe tbody tr th {\n",
       "        vertical-align: top;\n",
       "    }\n",
       "\n",
       "    .dataframe thead th {\n",
       "        text-align: right;\n",
       "    }\n",
       "</style>\n",
       "<table border=\"1\" class=\"dataframe\">\n",
       "  <thead>\n",
       "    <tr style=\"text-align: right;\">\n",
       "      <th></th>\n",
       "      <th>Purchase ID</th>\n",
       "      <th>SN</th>\n",
       "      <th>Age</th>\n",
       "      <th>Gender</th>\n",
       "      <th>Item ID</th>\n",
       "      <th>Item Name</th>\n",
       "      <th>Price</th>\n",
       "    </tr>\n",
       "  </thead>\n",
       "  <tbody>\n",
       "    <tr>\n",
       "      <th>0</th>\n",
       "      <td>0</td>\n",
       "      <td>Lisim78</td>\n",
       "      <td>20</td>\n",
       "      <td>Male</td>\n",
       "      <td>108</td>\n",
       "      <td>Extraction, Quickblade Of Trembling Hands</td>\n",
       "      <td>3.53</td>\n",
       "    </tr>\n",
       "    <tr>\n",
       "      <th>1</th>\n",
       "      <td>1</td>\n",
       "      <td>Lisovynya38</td>\n",
       "      <td>40</td>\n",
       "      <td>Male</td>\n",
       "      <td>143</td>\n",
       "      <td>Frenzied Scimitar</td>\n",
       "      <td>1.56</td>\n",
       "    </tr>\n",
       "    <tr>\n",
       "      <th>2</th>\n",
       "      <td>2</td>\n",
       "      <td>Ithergue48</td>\n",
       "      <td>24</td>\n",
       "      <td>Male</td>\n",
       "      <td>92</td>\n",
       "      <td>Final Critic</td>\n",
       "      <td>4.88</td>\n",
       "    </tr>\n",
       "    <tr>\n",
       "      <th>3</th>\n",
       "      <td>3</td>\n",
       "      <td>Chamassasya86</td>\n",
       "      <td>24</td>\n",
       "      <td>Male</td>\n",
       "      <td>100</td>\n",
       "      <td>Blindscythe</td>\n",
       "      <td>3.27</td>\n",
       "    </tr>\n",
       "    <tr>\n",
       "      <th>4</th>\n",
       "      <td>4</td>\n",
       "      <td>Iskosia90</td>\n",
       "      <td>23</td>\n",
       "      <td>Male</td>\n",
       "      <td>131</td>\n",
       "      <td>Fury</td>\n",
       "      <td>1.44</td>\n",
       "    </tr>\n",
       "  </tbody>\n",
       "</table>\n",
       "</div>"
      ],
      "text/plain": [
       "   Purchase ID             SN  Age Gender  Item ID  \\\n",
       "0            0        Lisim78   20   Male      108   \n",
       "1            1    Lisovynya38   40   Male      143   \n",
       "2            2     Ithergue48   24   Male       92   \n",
       "3            3  Chamassasya86   24   Male      100   \n",
       "4            4      Iskosia90   23   Male      131   \n",
       "\n",
       "                                   Item Name  Price  \n",
       "0  Extraction, Quickblade Of Trembling Hands   3.53  \n",
       "1                          Frenzied Scimitar   1.56  \n",
       "2                               Final Critic   4.88  \n",
       "3                                Blindscythe   3.27  \n",
       "4                                       Fury   1.44  "
      ]
     },
     "metadata": {},
     "execution_count": 192
    }
   ],
   "metadata": {}
  },
  {
   "cell_type": "code",
   "execution_count": 193,
   "source": [
    "# Find any incomplete rows\n",
    "purchase_data.count()"
   ],
   "outputs": [
    {
     "output_type": "execute_result",
     "data": {
      "text/plain": [
       "Purchase ID    780\n",
       "SN             780\n",
       "Age            780\n",
       "Gender         780\n",
       "Item ID        780\n",
       "Item Name      780\n",
       "Price          780\n",
       "dtype: int64"
      ]
     },
     "metadata": {},
     "execution_count": 193
    }
   ],
   "metadata": {}
  },
  {
   "cell_type": "code",
   "execution_count": 194,
   "source": [
    "# Find the values/types in each row or column\n",
    "purchase_data.dtypes"
   ],
   "outputs": [
    {
     "output_type": "execute_result",
     "data": {
      "text/plain": [
       "Purchase ID      int64\n",
       "SN              object\n",
       "Age              int64\n",
       "Gender          object\n",
       "Item ID          int64\n",
       "Item Name       object\n",
       "Price          float64\n",
       "dtype: object"
      ]
     },
     "metadata": {},
     "execution_count": 194
    }
   ],
   "metadata": {}
  },
  {
   "cell_type": "code",
   "execution_count": 195,
   "source": [
    "# Total players table\n",
    "player_count = purchase_data['SN'].nunique()\n",
    "player_count_df = pd.DataFrame({\"Total Players\" : player_count},index=[\"\"])\n",
    "player_count_df"
   ],
   "outputs": [
    {
     "output_type": "execute_result",
     "data": {
      "text/html": [
       "<div>\n",
       "<style scoped>\n",
       "    .dataframe tbody tr th:only-of-type {\n",
       "        vertical-align: middle;\n",
       "    }\n",
       "\n",
       "    .dataframe tbody tr th {\n",
       "        vertical-align: top;\n",
       "    }\n",
       "\n",
       "    .dataframe thead th {\n",
       "        text-align: right;\n",
       "    }\n",
       "</style>\n",
       "<table border=\"1\" class=\"dataframe\">\n",
       "  <thead>\n",
       "    <tr style=\"text-align: right;\">\n",
       "      <th></th>\n",
       "      <th>Total Players</th>\n",
       "    </tr>\n",
       "  </thead>\n",
       "  <tbody>\n",
       "    <tr>\n",
       "      <th></th>\n",
       "      <td>576</td>\n",
       "    </tr>\n",
       "  </tbody>\n",
       "</table>\n",
       "</div>"
      ],
      "text/plain": [
       "  Total Players\n",
       "            576"
      ]
     },
     "metadata": {},
     "execution_count": 195
    }
   ],
   "metadata": {}
  },
  {
   "cell_type": "code",
   "execution_count": 196,
   "source": [
    "# Unique Item Table\n",
    "item_name = purchase_data['Item Name'].nunique()\n",
    "avg_price = purchase_data['Price'].mean()\n",
    "number_purchases = purchase_data['Purchase ID'].count()\n",
    "total_revenue = purchase_data['Price'].sum()\n",
    "item_name_df = pd.DataFrame({'Total Unquie Item': item_name,'Average Price': avg_price,'Total Purchase':number_purchases,'Total Revenue':total_revenue},index=[''])\n",
    "item_name_df\n",
    "item_name_df['Average Price'] = item_name_df['Average Price'].map('${:,.2f}'.format)\n",
    "item_name_df['Total Revenue'] = item_name_df['Total Revenue'].map('${:,.2f}'.format)\n",
    "item_name_df"
   ],
   "outputs": [
    {
     "output_type": "execute_result",
     "data": {
      "text/html": [
       "<div>\n",
       "<style scoped>\n",
       "    .dataframe tbody tr th:only-of-type {\n",
       "        vertical-align: middle;\n",
       "    }\n",
       "\n",
       "    .dataframe tbody tr th {\n",
       "        vertical-align: top;\n",
       "    }\n",
       "\n",
       "    .dataframe thead th {\n",
       "        text-align: right;\n",
       "    }\n",
       "</style>\n",
       "<table border=\"1\" class=\"dataframe\">\n",
       "  <thead>\n",
       "    <tr style=\"text-align: right;\">\n",
       "      <th></th>\n",
       "      <th>Total Unquie Item</th>\n",
       "      <th>Average Price</th>\n",
       "      <th>Total Purchase</th>\n",
       "      <th>Total Revenue</th>\n",
       "    </tr>\n",
       "  </thead>\n",
       "  <tbody>\n",
       "    <tr>\n",
       "      <th></th>\n",
       "      <td>179</td>\n",
       "      <td>$3.05</td>\n",
       "      <td>780</td>\n",
       "      <td>$2,379.77</td>\n",
       "    </tr>\n",
       "  </tbody>\n",
       "</table>\n",
       "</div>"
      ],
      "text/plain": [
       "  Total Unquie Item Average Price  Total Purchase Total Revenue\n",
       "                179         $3.05             780     $2,379.77"
      ]
     },
     "metadata": {},
     "execution_count": 196
    }
   ],
   "metadata": {}
  },
  {
   "cell_type": "code",
   "execution_count": 197,
   "source": [
    "# Gender Table\n",
    "gender_group = purchase_data.groupby('Gender')\n",
    "total_count_gender = gender_group.nunique()['SN']\n",
    "percentage_of_players_by_gender = (total_count_gender/player_count) * 100\n",
    "gender_table = pd.DataFrame({'Total Count': total_count_gender,'Percent of Players': percentage_of_players_by_gender})\n",
    "gender_table\n",
    "gender_table.sort_values(['Total Count'],ascending= False).style.format({'Percent of Players':'{:.2f}%'})"
   ],
   "outputs": [
    {
     "output_type": "execute_result",
     "data": {
      "text/html": [
       "<style  type=\"text/css\" >\n",
       "</style><table id=\"T_036cd_\" ><thead>    <tr>        <th class=\"blank level0\" ></th>        <th class=\"col_heading level0 col0\" >Total Count</th>        <th class=\"col_heading level0 col1\" >Percent of Players</th>    </tr>    <tr>        <th class=\"index_name level0\" >Gender</th>        <th class=\"blank\" ></th>        <th class=\"blank\" ></th>    </tr></thead><tbody>\n",
       "                <tr>\n",
       "                        <th id=\"T_036cd_level0_row0\" class=\"row_heading level0 row0\" >Male</th>\n",
       "                        <td id=\"T_036cd_row0_col0\" class=\"data row0 col0\" >484</td>\n",
       "                        <td id=\"T_036cd_row0_col1\" class=\"data row0 col1\" >84.03%</td>\n",
       "            </tr>\n",
       "            <tr>\n",
       "                        <th id=\"T_036cd_level0_row1\" class=\"row_heading level0 row1\" >Female</th>\n",
       "                        <td id=\"T_036cd_row1_col0\" class=\"data row1 col0\" >81</td>\n",
       "                        <td id=\"T_036cd_row1_col1\" class=\"data row1 col1\" >14.06%</td>\n",
       "            </tr>\n",
       "            <tr>\n",
       "                        <th id=\"T_036cd_level0_row2\" class=\"row_heading level0 row2\" >Other / Non-Disclosed</th>\n",
       "                        <td id=\"T_036cd_row2_col0\" class=\"data row2 col0\" >11</td>\n",
       "                        <td id=\"T_036cd_row2_col1\" class=\"data row2 col1\" >1.91%</td>\n",
       "            </tr>\n",
       "    </tbody></table>"
      ],
      "text/plain": [
       "<pandas.io.formats.style.Styler at 0x7fad888cebb0>"
      ]
     },
     "metadata": {},
     "execution_count": 197
    }
   ],
   "metadata": {}
  },
  {
   "cell_type": "code",
   "execution_count": 198,
   "source": [
    "# Gender Table Purchasing Analysis\n",
    "gender_group = purchase_data.groupby('Gender')\n",
    "total_purchase_count_gender = gender_group.count()['Purchase ID']\n",
    "avg_purchase_price_gender = gender_group.mean()['Price']\n",
    "total_purchase_price_gender = gender_group.sum()['Price']\n",
    "avg_total_purchase_person_gender = (total_purchase_price_gender/total_count_gender) \n",
    "gender_table_purchasing_analysis = pd.DataFrame({'Purchase Count': total_purchase_count_gender,\n",
    "                                                'Average Purchase Price': avg_purchase_price_gender,\n",
    "                                                'Total Purchase Value': total_purchase_price_gender,\n",
    "                                                'Average Purchase Total Per Person': avg_total_purchase_person_gender})\n",
    "gender_table_purchasing_analysis\n",
    "gender_table_purchasing_analysis.style.format({'Average Purchase Price': '${:,.2f}',\n",
    "                                                'Total Purchase Value': '${:,.2f}',\n",
    "                                                'Average Purchase Total Per Person': '${:,.2f}'})\n",
    "                                                "
   ],
   "outputs": [
    {
     "output_type": "execute_result",
     "data": {
      "text/html": [
       "<style  type=\"text/css\" >\n",
       "</style><table id=\"T_dad93_\" ><thead>    <tr>        <th class=\"blank level0\" ></th>        <th class=\"col_heading level0 col0\" >Purchase Count</th>        <th class=\"col_heading level0 col1\" >Average Purchase Price</th>        <th class=\"col_heading level0 col2\" >Total Purchase Value</th>        <th class=\"col_heading level0 col3\" >Average Purchase Total Per Person</th>    </tr>    <tr>        <th class=\"index_name level0\" >Gender</th>        <th class=\"blank\" ></th>        <th class=\"blank\" ></th>        <th class=\"blank\" ></th>        <th class=\"blank\" ></th>    </tr></thead><tbody>\n",
       "                <tr>\n",
       "                        <th id=\"T_dad93_level0_row0\" class=\"row_heading level0 row0\" >Female</th>\n",
       "                        <td id=\"T_dad93_row0_col0\" class=\"data row0 col0\" >113</td>\n",
       "                        <td id=\"T_dad93_row0_col1\" class=\"data row0 col1\" >$3.20</td>\n",
       "                        <td id=\"T_dad93_row0_col2\" class=\"data row0 col2\" >$361.94</td>\n",
       "                        <td id=\"T_dad93_row0_col3\" class=\"data row0 col3\" >$4.47</td>\n",
       "            </tr>\n",
       "            <tr>\n",
       "                        <th id=\"T_dad93_level0_row1\" class=\"row_heading level0 row1\" >Male</th>\n",
       "                        <td id=\"T_dad93_row1_col0\" class=\"data row1 col0\" >652</td>\n",
       "                        <td id=\"T_dad93_row1_col1\" class=\"data row1 col1\" >$3.02</td>\n",
       "                        <td id=\"T_dad93_row1_col2\" class=\"data row1 col2\" >$1,967.64</td>\n",
       "                        <td id=\"T_dad93_row1_col3\" class=\"data row1 col3\" >$4.07</td>\n",
       "            </tr>\n",
       "            <tr>\n",
       "                        <th id=\"T_dad93_level0_row2\" class=\"row_heading level0 row2\" >Other / Non-Disclosed</th>\n",
       "                        <td id=\"T_dad93_row2_col0\" class=\"data row2 col0\" >15</td>\n",
       "                        <td id=\"T_dad93_row2_col1\" class=\"data row2 col1\" >$3.35</td>\n",
       "                        <td id=\"T_dad93_row2_col2\" class=\"data row2 col2\" >$50.19</td>\n",
       "                        <td id=\"T_dad93_row2_col3\" class=\"data row2 col3\" >$4.56</td>\n",
       "            </tr>\n",
       "    </tbody></table>"
      ],
      "text/plain": [
       "<pandas.io.formats.style.Styler at 0x7fad9a7e4610>"
      ]
     },
     "metadata": {},
     "execution_count": 198
    }
   ],
   "metadata": {}
  },
  {
   "cell_type": "code",
   "execution_count": 199,
   "source": [
    "# Age Demographics\n",
    "age_bins = [0,9.9,14.9,19.9,24.9,29.9,34.9,39.9,1000000]\n",
    "age_bins_labels = ['<10','10-14','15-19','20-24','25-29','30-34','35-39','40+']\n",
    "purchase_data['Age Group'] = pd.cut(purchase_data['Age'],bins = age_bins, labels = age_bins_labels)\n",
    "purchase_data\n",
    "age_group = purchase_data.groupby('Age Group')\n",
    "total_count_age_group = age_group['SN'].nunique()\n",
    "percentage_of_players_by_group = (total_count_age_group/player_count) * 100\n",
    "age_group_table = pd.DataFrame({'Total Count': total_count_age_group,'Percentage of Players': percentage_of_players_by_group})\n",
    "age_group_table\n",
    "age_group_table.style.format({'Percentage of Players': '{:.2f}%'})"
   ],
   "outputs": [
    {
     "output_type": "execute_result",
     "data": {
      "text/html": [
       "<style  type=\"text/css\" >\n",
       "</style><table id=\"T_1c7c1_\" ><thead>    <tr>        <th class=\"blank level0\" ></th>        <th class=\"col_heading level0 col0\" >Total Count</th>        <th class=\"col_heading level0 col1\" >Percentage of Players</th>    </tr>    <tr>        <th class=\"index_name level0\" >Age Group</th>        <th class=\"blank\" ></th>        <th class=\"blank\" ></th>    </tr></thead><tbody>\n",
       "                <tr>\n",
       "                        <th id=\"T_1c7c1_level0_row0\" class=\"row_heading level0 row0\" ><10</th>\n",
       "                        <td id=\"T_1c7c1_row0_col0\" class=\"data row0 col0\" >17</td>\n",
       "                        <td id=\"T_1c7c1_row0_col1\" class=\"data row0 col1\" >2.95%</td>\n",
       "            </tr>\n",
       "            <tr>\n",
       "                        <th id=\"T_1c7c1_level0_row1\" class=\"row_heading level0 row1\" >10-14</th>\n",
       "                        <td id=\"T_1c7c1_row1_col0\" class=\"data row1 col0\" >22</td>\n",
       "                        <td id=\"T_1c7c1_row1_col1\" class=\"data row1 col1\" >3.82%</td>\n",
       "            </tr>\n",
       "            <tr>\n",
       "                        <th id=\"T_1c7c1_level0_row2\" class=\"row_heading level0 row2\" >15-19</th>\n",
       "                        <td id=\"T_1c7c1_row2_col0\" class=\"data row2 col0\" >107</td>\n",
       "                        <td id=\"T_1c7c1_row2_col1\" class=\"data row2 col1\" >18.58%</td>\n",
       "            </tr>\n",
       "            <tr>\n",
       "                        <th id=\"T_1c7c1_level0_row3\" class=\"row_heading level0 row3\" >20-24</th>\n",
       "                        <td id=\"T_1c7c1_row3_col0\" class=\"data row3 col0\" >258</td>\n",
       "                        <td id=\"T_1c7c1_row3_col1\" class=\"data row3 col1\" >44.79%</td>\n",
       "            </tr>\n",
       "            <tr>\n",
       "                        <th id=\"T_1c7c1_level0_row4\" class=\"row_heading level0 row4\" >25-29</th>\n",
       "                        <td id=\"T_1c7c1_row4_col0\" class=\"data row4 col0\" >77</td>\n",
       "                        <td id=\"T_1c7c1_row4_col1\" class=\"data row4 col1\" >13.37%</td>\n",
       "            </tr>\n",
       "            <tr>\n",
       "                        <th id=\"T_1c7c1_level0_row5\" class=\"row_heading level0 row5\" >30-34</th>\n",
       "                        <td id=\"T_1c7c1_row5_col0\" class=\"data row5 col0\" >52</td>\n",
       "                        <td id=\"T_1c7c1_row5_col1\" class=\"data row5 col1\" >9.03%</td>\n",
       "            </tr>\n",
       "            <tr>\n",
       "                        <th id=\"T_1c7c1_level0_row6\" class=\"row_heading level0 row6\" >35-39</th>\n",
       "                        <td id=\"T_1c7c1_row6_col0\" class=\"data row6 col0\" >31</td>\n",
       "                        <td id=\"T_1c7c1_row6_col1\" class=\"data row6 col1\" >5.38%</td>\n",
       "            </tr>\n",
       "            <tr>\n",
       "                        <th id=\"T_1c7c1_level0_row7\" class=\"row_heading level0 row7\" >40+</th>\n",
       "                        <td id=\"T_1c7c1_row7_col0\" class=\"data row7 col0\" >12</td>\n",
       "                        <td id=\"T_1c7c1_row7_col1\" class=\"data row7 col1\" >2.08%</td>\n",
       "            </tr>\n",
       "    </tbody></table>"
      ],
      "text/plain": [
       "<pandas.io.formats.style.Styler at 0x7fad88a0a0d0>"
      ]
     },
     "metadata": {},
     "execution_count": 199
    }
   ],
   "metadata": {}
  },
  {
   "cell_type": "code",
   "execution_count": 200,
   "source": [
    "# Age Demographics Purchasing Analysis\n",
    "total_purchase_count_age_group = age_group.count()['Purchase ID']\n",
    "avg_purchase_price_age_group = age_group.mean()['Price']\n",
    "total_purchase_price_age_group = age_group.sum()['Price']\n",
    "avg_total_purchase_person_age_group = (total_purchase_price_age_group/total_count_age_group)\n",
    "age_group_table_purchasing_analysis = pd.DataFrame({'Purchase Count': total_count_age_group,\n",
    "                                                    'Average Purchase Price': avg_purchase_price_age_group,\n",
    "                                                    'Total Purchase Value': total_purchase_price_age_group,\n",
    "                                                    'Average Purchase Total per Person': avg_total_purchase_person_age_group})\n",
    "age_group_table_purchasing_analysis\n",
    "age_group_table_purchasing_analysis.style.format({'Average Purchase Price': '${:,.2f}',\n",
    "                                                'Total Purchase Value': '${:,.2f}',\n",
    "                                                'Average Purchase Total per Person': '${:,.2f}'})"
   ],
   "outputs": [
    {
     "output_type": "execute_result",
     "data": {
      "text/html": [
       "<style  type=\"text/css\" >\n",
       "</style><table id=\"T_691cd_\" ><thead>    <tr>        <th class=\"blank level0\" ></th>        <th class=\"col_heading level0 col0\" >Purchase Count</th>        <th class=\"col_heading level0 col1\" >Average Purchase Price</th>        <th class=\"col_heading level0 col2\" >Total Purchase Value</th>        <th class=\"col_heading level0 col3\" >Average Purchase Total per Person</th>    </tr>    <tr>        <th class=\"index_name level0\" >Age Group</th>        <th class=\"blank\" ></th>        <th class=\"blank\" ></th>        <th class=\"blank\" ></th>        <th class=\"blank\" ></th>    </tr></thead><tbody>\n",
       "                <tr>\n",
       "                        <th id=\"T_691cd_level0_row0\" class=\"row_heading level0 row0\" ><10</th>\n",
       "                        <td id=\"T_691cd_row0_col0\" class=\"data row0 col0\" >17</td>\n",
       "                        <td id=\"T_691cd_row0_col1\" class=\"data row0 col1\" >$3.35</td>\n",
       "                        <td id=\"T_691cd_row0_col2\" class=\"data row0 col2\" >$77.13</td>\n",
       "                        <td id=\"T_691cd_row0_col3\" class=\"data row0 col3\" >$4.54</td>\n",
       "            </tr>\n",
       "            <tr>\n",
       "                        <th id=\"T_691cd_level0_row1\" class=\"row_heading level0 row1\" >10-14</th>\n",
       "                        <td id=\"T_691cd_row1_col0\" class=\"data row1 col0\" >22</td>\n",
       "                        <td id=\"T_691cd_row1_col1\" class=\"data row1 col1\" >$2.96</td>\n",
       "                        <td id=\"T_691cd_row1_col2\" class=\"data row1 col2\" >$82.78</td>\n",
       "                        <td id=\"T_691cd_row1_col3\" class=\"data row1 col3\" >$3.76</td>\n",
       "            </tr>\n",
       "            <tr>\n",
       "                        <th id=\"T_691cd_level0_row2\" class=\"row_heading level0 row2\" >15-19</th>\n",
       "                        <td id=\"T_691cd_row2_col0\" class=\"data row2 col0\" >107</td>\n",
       "                        <td id=\"T_691cd_row2_col1\" class=\"data row2 col1\" >$3.04</td>\n",
       "                        <td id=\"T_691cd_row2_col2\" class=\"data row2 col2\" >$412.89</td>\n",
       "                        <td id=\"T_691cd_row2_col3\" class=\"data row2 col3\" >$3.86</td>\n",
       "            </tr>\n",
       "            <tr>\n",
       "                        <th id=\"T_691cd_level0_row3\" class=\"row_heading level0 row3\" >20-24</th>\n",
       "                        <td id=\"T_691cd_row3_col0\" class=\"data row3 col0\" >258</td>\n",
       "                        <td id=\"T_691cd_row3_col1\" class=\"data row3 col1\" >$3.05</td>\n",
       "                        <td id=\"T_691cd_row3_col2\" class=\"data row3 col2\" >$1,114.06</td>\n",
       "                        <td id=\"T_691cd_row3_col3\" class=\"data row3 col3\" >$4.32</td>\n",
       "            </tr>\n",
       "            <tr>\n",
       "                        <th id=\"T_691cd_level0_row4\" class=\"row_heading level0 row4\" >25-29</th>\n",
       "                        <td id=\"T_691cd_row4_col0\" class=\"data row4 col0\" >77</td>\n",
       "                        <td id=\"T_691cd_row4_col1\" class=\"data row4 col1\" >$2.90</td>\n",
       "                        <td id=\"T_691cd_row4_col2\" class=\"data row4 col2\" >$293.00</td>\n",
       "                        <td id=\"T_691cd_row4_col3\" class=\"data row4 col3\" >$3.81</td>\n",
       "            </tr>\n",
       "            <tr>\n",
       "                        <th id=\"T_691cd_level0_row5\" class=\"row_heading level0 row5\" >30-34</th>\n",
       "                        <td id=\"T_691cd_row5_col0\" class=\"data row5 col0\" >52</td>\n",
       "                        <td id=\"T_691cd_row5_col1\" class=\"data row5 col1\" >$2.93</td>\n",
       "                        <td id=\"T_691cd_row5_col2\" class=\"data row5 col2\" >$214.00</td>\n",
       "                        <td id=\"T_691cd_row5_col3\" class=\"data row5 col3\" >$4.12</td>\n",
       "            </tr>\n",
       "            <tr>\n",
       "                        <th id=\"T_691cd_level0_row6\" class=\"row_heading level0 row6\" >35-39</th>\n",
       "                        <td id=\"T_691cd_row6_col0\" class=\"data row6 col0\" >31</td>\n",
       "                        <td id=\"T_691cd_row6_col1\" class=\"data row6 col1\" >$3.60</td>\n",
       "                        <td id=\"T_691cd_row6_col2\" class=\"data row6 col2\" >$147.67</td>\n",
       "                        <td id=\"T_691cd_row6_col3\" class=\"data row6 col3\" >$4.76</td>\n",
       "            </tr>\n",
       "            <tr>\n",
       "                        <th id=\"T_691cd_level0_row7\" class=\"row_heading level0 row7\" >40+</th>\n",
       "                        <td id=\"T_691cd_row7_col0\" class=\"data row7 col0\" >12</td>\n",
       "                        <td id=\"T_691cd_row7_col1\" class=\"data row7 col1\" >$2.94</td>\n",
       "                        <td id=\"T_691cd_row7_col2\" class=\"data row7 col2\" >$38.24</td>\n",
       "                        <td id=\"T_691cd_row7_col3\" class=\"data row7 col3\" >$3.19</td>\n",
       "            </tr>\n",
       "    </tbody></table>"
      ],
      "text/plain": [
       "<pandas.io.formats.style.Styler at 0x7fad88a359a0>"
      ]
     },
     "metadata": {},
     "execution_count": 200
    }
   ],
   "metadata": {}
  },
  {
   "cell_type": "code",
   "execution_count": null,
   "source": [],
   "outputs": [],
   "metadata": {}
  }
 ],
 "metadata": {
  "kernelspec": {
   "name": "python3",
   "display_name": "Python 3.8.8 64-bit ('base': conda)"
  },
  "language_info": {
   "codemirror_mode": {
    "name": "ipython",
    "version": 3
   },
   "file_extension": ".py",
   "mimetype": "text/x-python",
   "name": "python",
   "nbconvert_exporter": "python",
   "pygments_lexer": "ipython3",
   "version": "3.8.8"
  },
  "interpreter": {
   "hash": "98016cc4f8d063117cd41ff553f43d87f03af6246daa3659ed70ae18f4be42f7"
  }
 },
 "nbformat": 4,
 "nbformat_minor": 5
}