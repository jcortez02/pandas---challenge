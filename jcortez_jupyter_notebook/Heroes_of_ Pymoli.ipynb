{
 "cells": [
  {
   "cell_type": "code",
   "execution_count": null,
   "id": "94fc0bbd",
   "metadata": {},
   "outputs": [],
   "source": [
    "# Dependencies and Setup\n",
    "import pandas as pd\n",
    "\n",
    "# File to Load (Remember to Change These)\n",
    "file_to_load = '/Users/jacobcortez/Documents/GitHub/DS_Repos/pandas_challenge/HeroesOfPymoli/Resources/purchase_data.csv'\n",
    "\n",
    "# Read Purchasing File and store into Pandas data frame\n",
    "purchase_data.df = pd.read_csv(file_to_load)\n",
    "purchase_data.df.head()\n",
    "# Summarize our original df\n",
    "purchase_data.df.head()\n",
    "# Find any incomplete rows\n",
    "purchase_data.df.count()\n",
    "# Find the values/types in each row or column\n",
    "purchase_data.df.dtypes\n",
    "# Focus on SN column to see how many players there are------------> How did I visulaize the 'length' of 576 for this data\n",
    "purchase_data.df['SN'].value_counts()\n",
    "# Group player names in df and visulaize ---------------------> 'Player Name Count Data Frame'\n",
    "group_sn_df = purchase_data.df.groupby(['SN'])\n",
    "print(group_sn_df)\n",
    "# Focus on Item Name column to see how many unique items there are------------> How did I visulaize the 'length' of 179 for this data\n",
    "purchase_data.df['Item Name'].value_counts()\n",
    "# Group Item Name in df and visulaize ---------------------> 'Groupby Item Name Data Frame'\n",
    "group_itemname_df = purchase_data.df.groupby(['Item Name'])\n",
    "print(group_itemname_df)\n",
    "# Summarize our original df\n",
    "purchase_data.df.head()\n",
    "# Index Item Name column ---------------------> 'Index Item Name Data Frame'\n",
    "item_name_df = purchase_data.df.set_index('Item Name')\n",
    "item_name_df.head()\n",
    "# Total revenue in Price column\n",
    "item_name_df['Price'].sum()\n",
    "\n",
    "# Average cost in Price column\n",
    "item_name_df['Price'].mean()\n",
    "\n",
    "# Total counts in Purchase ID column\n",
    "item_name_df['Purchase ID'].count()\n",
    "# Statiscal analysis on Item Name ---------------------> 'Stats Item Name Data Frame'\n",
    "stats_itemname_df = item_name_df.describe()\n",
    "stats_itemname_df.head()"
   ]
  }
 ],
 "metadata": {
  "kernelspec": {
   "display_name": "Python 3",
   "language": "python",
   "name": "python3"
  },
  "language_info": {
   "codemirror_mode": {
    "name": "ipython",
    "version": 3
   },
   "file_extension": ".py",
   "mimetype": "text/x-python",
   "name": "python",
   "nbconvert_exporter": "python",
   "pygments_lexer": "ipython3",
   "version": "3.8.8"
  }
 },
 "nbformat": 4,
 "nbformat_minor": 5
}
